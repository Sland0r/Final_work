{
 "cells": [
  {
   "cell_type": "code",
   "execution_count": 1,
   "metadata": {},
   "outputs": [],
   "source": [
    "from typing import Dict, Tuple\n",
    "import torchvision\n",
    "from tqdm import tqdm\n",
    "import torch\n",
    "import torch.nn as nn\n",
    "import torch.nn.functional as F\n",
    "from torch.utils.data import DataLoader\n",
    "from torchvision import models, transforms\n",
    "from torchvision.utils import save_image, make_grid\n",
    "import matplotlib.pyplot as plt\n",
    "from matplotlib.animation import FuncAnimation, PillowWriter\n",
    "from torchvision import datasets, transforms\n",
    "import numpy as np\n",
    "from IPython.display import HTML\n",
    "from diffusion_utilities import *"
   ]
  },
  {
   "cell_type": "code",
   "execution_count": 2,
   "metadata": {},
   "outputs": [],
   "source": [
    "from torchvision import datasets\n",
    "transformerr = transforms.Compose([\n",
    "    transforms.ToTensor(),  # Convert to tensor\n",
    "])"
   ]
  },
  {
   "cell_type": "markdown",
   "metadata": {},
   "source": [
    "# Time mapping"
   ]
  },
  {
   "cell_type": "code",
   "execution_count": 3,
   "metadata": {},
   "outputs": [],
   "source": [
    "step = list(range(1,1001))\n",
    "beta = dict()\n",
    "for t in step:\n",
    "    beta[t] = round(t * 0.0199 / 999 + (0.02 - 0.0199 / 999 * 1000), 15) # beta = at + b\n",
    "alpha = dict()\n",
    "alpha[1] = 1 - beta[1]\n",
    "for t in step[1:]:\n",
    "    alpha[t] = alpha[t-1] * (1 - beta[t])\n"
   ]
  },
  {
   "cell_type": "code",
   "execution_count": 4,
   "metadata": {},
   "outputs": [],
   "source": [
    "import math\n",
    "T = dict()\n",
    "for t in step:\n",
    "    T[t] = -1/2 * math.log(alpha[t])"
   ]
  },
  {
   "cell_type": "code",
   "execution_count": 10,
   "metadata": {},
   "outputs": [],
   "source": [
    "T[0] = 0"
   ]
  },
  {
   "cell_type": "code",
   "execution_count": 11,
   "metadata": {},
   "outputs": [],
   "source": [
    "t = np.array([T[x] for x in range(0,1001, 20)])"
   ]
  },
  {
   "cell_type": "code",
   "execution_count": 12,
   "metadata": {},
   "outputs": [
    {
     "data": {
      "text/plain": [
       "array([0.00000000e+00, 2.89287678e-03, 9.77168452e-03, 2.06380126e-02,\n",
       "       3.54934518e-02, 5.43395939e-02, 7.71780322e-02, 1.04010361e-01,\n",
       "       1.34838177e-01, 1.69663075e-01, 2.08486656e-01, 2.51310518e-01,\n",
       "       2.98136262e-01, 3.48965490e-01, 4.03799807e-01, 4.62640815e-01,\n",
       "       5.25490122e-01, 5.92349335e-01, 6.63220063e-01, 7.38103914e-01,\n",
       "       8.17002501e-01, 8.99917436e-01, 9.86850333e-01, 1.07780281e+00,\n",
       "       1.17277647e+00, 1.27177295e+00, 1.37479385e+00, 1.48184081e+00,\n",
       "       1.59291544e+00, 1.70801936e+00, 1.82715420e+00, 1.95032159e+00,\n",
       "       2.07752314e+00, 2.20876049e+00, 2.34403528e+00, 2.48334912e+00,\n",
       "       2.62670365e+00, 2.77410051e+00, 2.92554132e+00, 3.08102773e+00,\n",
       "       3.24056138e+00, 3.40414389e+00, 3.57177692e+00, 3.74346210e+00,\n",
       "       3.91920107e+00, 4.09899548e+00, 4.28284698e+00, 4.47075721e+00,\n",
       "       4.66272782e+00, 4.85876046e+00, 5.05885677e+00])"
      ]
     },
     "execution_count": 12,
     "metadata": {},
     "output_type": "execute_result"
    }
   ],
   "source": [
    "t"
   ]
  },
  {
   "cell_type": "code",
   "execution_count": 5,
   "metadata": {},
   "outputs": [
    {
     "data": {
      "text/plain": [
       "0.19840579691312765"
      ]
     },
     "execution_count": 5,
     "metadata": {},
     "output_type": "execute_result"
    }
   ],
   "source": [
    "T[195] #collapse time experimental"
   ]
  },
  {
   "cell_type": "code",
   "execution_count": 8,
   "metadata": {},
   "outputs": [
    {
     "data": {
      "text/plain": [
       "232"
      ]
     },
     "execution_count": 8,
     "metadata": {},
     "output_type": "execute_result"
    }
   ],
   "source": [
    "mapped_time = min(T, key=lambda k: abs(T[k]-0.278))\n",
    "mapped_time"
   ]
  },
  {
   "cell_type": "markdown",
   "metadata": {},
   "source": [
    "# Speciation time"
   ]
  },
  {
   "cell_type": "code",
   "execution_count": 19,
   "metadata": {},
   "outputs": [
    {
     "name": "stdout",
     "output_type": "stream",
     "text": [
      "Files already downloaded and verified\n"
     ]
    }
   ],
   "source": [
    "trainset = torchvision.datasets.CIFAR10(root='./data', train=True,\n",
    "                                        download=True, transform=transformerr)"
   ]
  },
  {
   "cell_type": "code",
   "execution_count": 21,
   "metadata": {},
   "outputs": [
    {
     "data": {
      "text/plain": [
       "tensor(0.)"
      ]
     },
     "execution_count": 21,
     "metadata": {},
     "output_type": "execute_result"
    }
   ],
   "source": [
    "torch.min(trainset[0][0])"
   ]
  },
  {
   "cell_type": "code",
   "execution_count": 22,
   "metadata": {},
   "outputs": [],
   "source": [
    "mask_1 = torch.Tensor(trainset.targets) == 1\n",
    "mask_2 = torch.Tensor(trainset.targets) == 7\n",
    "mask = mask_1 | mask_2\n",
    "trainset = torch.utils.data.Subset(trainset, torch.where(mask)[0])"
   ]
  },
  {
   "cell_type": "code",
   "execution_count": 34,
   "metadata": {},
   "outputs": [
    {
     "data": {
      "text/plain": [
       "torch.Size([32, 32])"
      ]
     },
     "execution_count": 34,
     "metadata": {},
     "output_type": "execute_result"
    }
   ],
   "source": [
    "trainset[0][0][0].shape"
   ]
  },
  {
   "cell_type": "code",
   "execution_count": 23,
   "metadata": {},
   "outputs": [],
   "source": [
    "dataset = torch.Tensor()"
   ]
  },
  {
   "cell_type": "code",
   "execution_count": 41,
   "metadata": {},
   "outputs": [
    {
     "name": "stdout",
     "output_type": "stream",
     "text": [
      "torch.Size([10000, 32, 32])\n"
     ]
    }
   ],
   "source": [
    "# Initialize an empty list to store tensors\n",
    "tensor_list = []\n",
    "\n",
    "# Loop through the dataset and collect the tensors\n",
    "for x in range(len(trainset)):\n",
    "    tensor_list.append(torch.unsqueeze(trainset[x][0][0], 0))\n",
    "    \n",
    "\n",
    "# Concatenate all tensors at once\n",
    "dataset = torch.cat(tensor_list, dim=0)\n",
    "\n",
    "print(dataset.shape)"
   ]
  },
  {
   "cell_type": "code",
   "execution_count": 44,
   "metadata": {},
   "outputs": [],
   "source": [
    "dataset -= torch.mean(dataset)"
   ]
  },
  {
   "cell_type": "code",
   "execution_count": 46,
   "metadata": {},
   "outputs": [],
   "source": [
    "row = []\n",
    "for i in range(len(dataset)):\n",
    "    row.append(dataset[i].flatten().tolist())"
   ]
  },
  {
   "cell_type": "code",
   "execution_count": 47,
   "metadata": {},
   "outputs": [
    {
     "data": {
      "text/plain": [
       "torch.Size([10000, 1024])"
      ]
     },
     "execution_count": 47,
     "metadata": {},
     "output_type": "execute_result"
    }
   ],
   "source": [
    "torch.Tensor(row).shape"
   ]
  },
  {
   "cell_type": "code",
   "execution_count": 48,
   "metadata": {},
   "outputs": [],
   "source": [
    "row = torch.transpose(torch.Tensor(row),0,1)"
   ]
  },
  {
   "cell_type": "code",
   "execution_count": 49,
   "metadata": {},
   "outputs": [
    {
     "name": "stderr",
     "output_type": "stream",
     "text": [
      "/var/folders/cd/sr6rtt2j1rqdn0jdyblt3ztm0000gn/T/ipykernel_57070/3888172521.py:1: UserWarning: To copy construct from a tensor, it is recommended to use sourceTensor.clone().detach() or sourceTensor.clone().detach().requires_grad_(True), rather than torch.tensor(sourceTensor).\n",
      "  C = torch.cov(torch.tensor(row))\n"
     ]
    }
   ],
   "source": [
    "C = torch.cov(torch.tensor(row))"
   ]
  },
  {
   "cell_type": "code",
   "execution_count": 50,
   "metadata": {},
   "outputs": [
    {
     "data": {
      "text/plain": [
       "torch.Size([1024, 1024])"
      ]
     },
     "execution_count": 50,
     "metadata": {},
     "output_type": "execute_result"
    }
   ],
   "source": [
    "C.shape"
   ]
  },
  {
   "cell_type": "code",
   "execution_count": 51,
   "metadata": {},
   "outputs": [],
   "source": [
    "with torch.no_grad():\n",
    "    L, _ = torch.linalg.eigh(C, UPLO=\"L\")"
   ]
  },
  {
   "cell_type": "code",
   "execution_count": 52,
   "metadata": {},
   "outputs": [
    {
     "data": {
      "text/plain": [
       "tensor(16.5853)"
      ]
     },
     "execution_count": 52,
     "metadata": {},
     "output_type": "execute_result"
    }
   ],
   "source": [
    "L[-1]"
   ]
  },
  {
   "cell_type": "code",
   "execution_count": 53,
   "metadata": {},
   "outputs": [
    {
     "data": {
      "text/plain": [
       "tensor(1.4043)"
      ]
     },
     "execution_count": 53,
     "metadata": {},
     "output_type": "execute_result"
    }
   ],
   "source": [
    "t_s = 0.5 * np.log(L[-1])\n",
    "t_s"
   ]
  },
  {
   "cell_type": "code",
   "execution_count": 54,
   "metadata": {},
   "outputs": [
    {
     "data": {
      "text/plain": [
       "526"
      ]
     },
     "execution_count": 54,
     "metadata": {},
     "output_type": "execute_result"
    }
   ],
   "source": [
    "mapped_time = min(T, key=lambda k: abs(T[k]-t_s))\n",
    "mapped_time"
   ]
  },
  {
   "cell_type": "markdown",
   "metadata": {},
   "source": [
    "# Collapse time"
   ]
  },
  {
   "cell_type": "code",
   "execution_count": 18,
   "metadata": {},
   "outputs": [],
   "source": [
    "# MNIST\n",
    "from torchvision import datasets, transforms\n",
    "dataset = datasets.MNIST('~/.pytorch/MNIST_data/', train=True, download=True, transform=transform)"
   ]
  },
  {
   "cell_type": "code",
   "execution_count": 20,
   "metadata": {},
   "outputs": [],
   "source": [
    "def first_n (N, mask):\n",
    "    n = 0\n",
    "    for i in range(len(mask)):\n",
    "        if mask[i]:\n",
    "            n += 1\n",
    "        if n == N:\n",
    "            for j in range(i+1, len(mask)):\n",
    "                mask[j] = False\n",
    "            break\n",
    "    return mask"
   ]
  },
  {
   "cell_type": "code",
   "execution_count": 21,
   "metadata": {},
   "outputs": [],
   "source": [
    "mask_1 = dataset.targets == 0\n",
    "first_n(100, mask_1)\n",
    "mask_2 = dataset.targets == 7\n",
    "first_n(100, mask_2)\n",
    "mask = mask_1 | mask_2\n",
    "dataset = torch.utils.data.Subset(dataset, torch.where(mask)[0])\n"
   ]
  },
  {
   "cell_type": "code",
   "execution_count": 39,
   "metadata": {},
   "outputs": [],
   "source": [
    "a = torch.Tensor()\n",
    "for x in range(len(dataset)):\n",
    "    a = torch.cat((a, dataset[x][0]), dim=0)"
   ]
  },
  {
   "cell_type": "code",
   "execution_count": 69,
   "metadata": {},
   "outputs": [],
   "source": [
    "@torch.no_grad\n",
    "def P(t, x):\n",
    "    d = 28 * 28\n",
    "    return torch.sum(1/len(dataset) * 1/(2*torch.pi*(1-torch.e**(0-2*t)))**(d/2) * torch.exp(-1/2* (x-a*torch.e**(0-t))**2 / (1-torch.e**(0-2*t))))"
   ]
  },
  {
   "cell_type": "code",
   "execution_count": 70,
   "metadata": {},
   "outputs": [
    {
     "data": {
      "text/plain": [
       "tensor(0.)"
      ]
     },
     "execution_count": 70,
     "metadata": {},
     "output_type": "execute_result"
    }
   ],
   "source": [
    "P(1,a[1])"
   ]
  },
  {
   "cell_type": "code",
   "execution_count": 66,
   "metadata": {},
   "outputs": [
    {
     "data": {
      "text/plain": [
       "torch.Size([28, 28])"
      ]
     },
     "execution_count": 66,
     "metadata": {},
     "output_type": "execute_result"
    }
   ],
   "source": [
    "torch.sum(a, dim=0).shape"
   ]
  }
 ],
 "metadata": {
  "kernelspec": {
   "display_name": "ML",
   "language": "python",
   "name": "python3"
  },
  "language_info": {
   "codemirror_mode": {
    "name": "ipython",
    "version": 3
   },
   "file_extension": ".py",
   "mimetype": "text/x-python",
   "name": "python",
   "nbconvert_exporter": "python",
   "pygments_lexer": "ipython3",
   "version": "3.10.9"
  }
 },
 "nbformat": 4,
 "nbformat_minor": 2
}

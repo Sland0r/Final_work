{
 "cells": [
  {
   "cell_type": "code",
   "execution_count": 1,
   "metadata": {},
   "outputs": [],
   "source": [
    "from typing import Dict, Tuple\n",
    "from tqdm import tqdm\n",
    "import torch\n",
    "import torch.nn as nn\n",
    "import torch.nn.functional as F\n",
    "from torch.utils.data import DataLoader\n",
    "from torchvision import models, transforms\n",
    "from torchvision.utils import save_image, make_grid\n",
    "import matplotlib.pyplot as plt\n",
    "from matplotlib.animation import FuncAnimation, PillowWriter\n",
    "import numpy as np\n",
    "from IPython.display import HTML\n",
    "from diffusion_utilities import *"
   ]
  },
  {
   "cell_type": "markdown",
   "metadata": {},
   "source": [
    "# Setting Things Up"
   ]
  },
  {
   "cell_type": "code",
   "execution_count": 2,
   "metadata": {},
   "outputs": [],
   "source": [
    "class ContextUnet(nn.Module):\n",
    "    def __init__(self, in_channels, n_feat=256, n_cfeat=10, height=28):  # cfeat - context features\n",
    "        super(ContextUnet, self).__init__()\n",
    "\n",
    "        # number of input channels, number of intermediate feature maps and number of classes\n",
    "        self.in_channels = in_channels\n",
    "        self.n_feat = n_feat\n",
    "        self.n_cfeat = n_cfeat\n",
    "        self.h = height  #assume h == w. must be divisible by 4, so 28,24,20,16...\n",
    "\n",
    "        # Initialize the initial convolutional layer\n",
    "        self.init_conv = ResidualConvBlock(in_channels, n_feat, is_res=True)\n",
    "\n",
    "        # Initialize the down-sampling path of the U-Net with two levels\n",
    "        self.down1 = UnetDown(n_feat, n_feat)        # down1 #[10, 256, 8, 8]\n",
    "        self.down2 = UnetDown(n_feat, 2 * n_feat)    # down2 #[10, 256, 4,  4]\n",
    "        \n",
    "         # original: self.to_vec = nn.Sequential(nn.AvgPool2d(7), nn.GELU())\n",
    "        self.to_vec = nn.Sequential(nn.AvgPool2d((4)), nn.GELU())\n",
    "\n",
    "        # Embed the timestep and context labels with a one-layer fully connected neural network\n",
    "        self.timeembed1 = EmbedFC(1, 2*n_feat)\n",
    "        self.timeembed2 = EmbedFC(1, 1*n_feat)\n",
    "        self.contextembed1 = EmbedFC(n_cfeat, 2*n_feat)\n",
    "        self.contextembed2 = EmbedFC(n_cfeat, 1*n_feat)\n",
    "\n",
    "        # Initialize the up-sampling path of the U-Net with three levels\n",
    "        self.up0 = nn.Sequential(\n",
    "            nn.ConvTranspose2d(2 * n_feat, 2 * n_feat, self.h//4, self.h//4), # up-sample \n",
    "            nn.GroupNorm(8, 2 * n_feat), # normalize                        \n",
    "            nn.ReLU(),\n",
    "        )\n",
    "        self.up1 = UnetUp(4 * n_feat, n_feat)\n",
    "        self.up2 = UnetUp(2 * n_feat, n_feat)\n",
    "\n",
    "        # Initialize the final convolutional layers to map to the same number of channels as the input image\n",
    "        self.out = nn.Sequential(\n",
    "            nn.Conv2d(2 * n_feat, n_feat, 3, 1, 1), # reduce number of feature maps   #in_channels, out_channels, kernel_size, stride=1, padding=0\n",
    "            nn.GroupNorm(8, n_feat), # normalize\n",
    "            nn.ReLU(),\n",
    "            nn.Conv2d(n_feat, self.in_channels, 3, 1, 1), # map to same number of channels as input\n",
    "        )\n",
    "\n",
    "    def forward(self, x, t, c=None):\n",
    "        \"\"\"\n",
    "        x : (batch, n_feat, h, w) : input image\n",
    "        t : (batch, n_cfeat)      : time step\n",
    "        c : (batch, n_classes)    : context label\n",
    "        \"\"\"\n",
    "        # x is the input image, c is the context label, t is the timestep, context_mask says which samples to block the context on\n",
    "\n",
    "        # pass the input image through the initial convolutional layer\n",
    "        x = self.init_conv(x)\n",
    "        # pass the result through the down-sampling path\n",
    "        down1 = self.down1(x)       #[10, 256, 8, 8]\n",
    "        down2 = self.down2(down1)   #[10, 256, 4, 4]\n",
    "        \n",
    "        # convert the feature maps to a vector and apply an activation\n",
    "        hiddenvec = self.to_vec(down2)\n",
    "        \n",
    "        # mask out context if context_mask == 1\n",
    "        if c is None:\n",
    "            c = torch.zeros(x.shape[0], self.n_cfeat).to(x)\n",
    "            \n",
    "        # embed context and timestep\n",
    "        cemb1 = self.contextembed1(c).view(-1, self.n_feat * 2, 1, 1)     # (batch, 2*n_feat, 1,1)\n",
    "        temb1 = self.timeembed1(t).view(-1, self.n_feat * 2, 1, 1)\n",
    "        cemb2 = self.contextembed2(c).view(-1, self.n_feat, 1, 1)\n",
    "        temb2 = self.timeembed2(t).view(-1, self.n_feat, 1, 1)\n",
    "        #print(f\"uunet forward: cemb1 {cemb1.shape}. temb1 {temb1.shape}, cemb2 {cemb2.shape}. temb2 {temb2.shape}\")\n",
    "\n",
    "\n",
    "        up1 = self.up0(hiddenvec)\n",
    "        up2 = self.up1(cemb1*up1 + temb1, down2)  # add and multiply embeddings\n",
    "        up3 = self.up2(cemb2*up2 + temb2, down1)\n",
    "        out = self.out(torch.cat((up3, x), 1))\n",
    "        return out\n"
   ]
  },
  {
   "cell_type": "code",
   "execution_count": 3,
   "metadata": {},
   "outputs": [],
   "source": [
    "# hyperparameters\n",
    "\n",
    "# diffusion hyperparameters\n",
    "timesteps = 1000\n",
    "beta1 = 1e-4\n",
    "beta2 = 0.02\n",
    "\n",
    "# network hyperparameters\n",
    "device = torch.device(\"cuda:0\" if torch.cuda.is_available() else torch.device('cpu'))\n",
    "device = torch.device(\"mps\" if torch.backends.mps.is_available() else torch.device('cpu'))\n",
    "n_feat = 64 # 64 hidden dimension feature\n",
    "n_cfeat = 10 # context vector is of size 10\n",
    "height = 28 # 16x16 image\n",
    "save_dir = './weights/'\n",
    "chan = 1\n",
    "\n",
    "# training hyperparameters\n",
    "batch_size = 128\n",
    "n_epoch = 32\n",
    "lrate=1e-3"
   ]
  },
  {
   "cell_type": "code",
   "execution_count": 4,
   "metadata": {},
   "outputs": [],
   "source": [
    "# construct DDPM noise schedule\n",
    "b_t = (beta2 - beta1) * torch.linspace(0, 1, timesteps + 1, device=device) + beta1\n",
    "a_t = 1 - b_t\n",
    "ab_t = torch.cumsum(a_t.log(), dim=0).exp()    \n",
    "ab_t[0] = 1"
   ]
  },
  {
   "cell_type": "code",
   "execution_count": 5,
   "metadata": {},
   "outputs": [],
   "source": [
    "# construct model\n",
    "nn_model = ContextUnet(in_channels=chan, n_feat=n_feat, n_cfeat=n_cfeat, height=height).to(device)"
   ]
  },
  {
   "cell_type": "code",
   "execution_count": 6,
   "metadata": {},
   "outputs": [
    {
     "data": {
      "text/plain": [
       "<All keys matched successfully>"
      ]
     },
     "execution_count": 6,
     "metadata": {},
     "output_type": "execute_result"
    }
   ],
   "source": [
    "nn_model.load_state_dict(torch.load(\"./true/MNIST_260.pth\"))"
   ]
  },
  {
   "cell_type": "code",
   "execution_count": 7,
   "metadata": {},
   "outputs": [],
   "source": [
    "class Net(nn.Module):\n",
    "    def __init__(self):\n",
    "        super().__init__()\n",
    "        self.conv1 = nn.Conv2d(1, 6, 5)\n",
    "        self.pool = nn.MaxPool2d(2, 2)\n",
    "        self.conv2 = nn.Conv2d(6, 16, 5)\n",
    "        self.fc1 = nn.Linear(16 * 4 * 4, 120)\n",
    "        self.fc2 = nn.Linear(120, 84)\n",
    "        self.fc3 = nn.Linear(84, 2)\n",
    "\n",
    "    def forward(self, x):\n",
    "        x = self.pool(F.relu(self.conv1(x)))\n",
    "        x = self.pool(F.relu(self.conv2(x)))\n",
    "        x = torch.flatten(x, 1) # flatten all dimensions except batch\n",
    "        x = F.relu(self.fc1(x))\n",
    "        x = F.relu(self.fc2(x))\n",
    "        x = self.fc3(x)\n",
    "        return x\n",
    "\n",
    "\n",
    "net = Net()"
   ]
  },
  {
   "cell_type": "code",
   "execution_count": 8,
   "metadata": {},
   "outputs": [
    {
     "data": {
      "text/plain": [
       "<All keys matched successfully>"
      ]
     },
     "execution_count": 8,
     "metadata": {},
     "output_type": "execute_result"
    }
   ],
   "source": [
    "net.load_state_dict(torch.load(\"./weights/MNIST_Reco.pth\"))"
   ]
  },
  {
   "cell_type": "code",
   "execution_count": 9,
   "metadata": {},
   "outputs": [],
   "source": [
    "# helper function; removes the predicted noise (but adds some noise back in to avoid collapse)\n",
    "@torch.no_grad()\n",
    "def denoise_add_noise(x, t, pred_noise, z=None):\n",
    "    if z is None:\n",
    "        z = torch.randn_like(x)\n",
    "    noise = b_t.sqrt()[t] * z\n",
    "    mean = (x - pred_noise * ((1 - a_t[t]) / (1 - ab_t[t]).sqrt())) / a_t[t].sqrt()\n",
    "    return mean + noise"
   ]
  },
  {
   "cell_type": "code",
   "execution_count": 10,
   "metadata": {},
   "outputs": [],
   "source": [
    "save_rate=20"
   ]
  },
  {
   "cell_type": "code",
   "execution_count": 11,
   "metadata": {},
   "outputs": [],
   "source": [
    "# sample using standard algorithm\n",
    "@torch.no_grad()\n",
    "def sample_ddpm(n_sample, save_rate=20):\n",
    "    # x_T ~ N(0, 1), sample initial noise\n",
    "    samples = torch.randn(n_sample, chan, height, height).to(device)  \n",
    "\n",
    "    # array to keep track of generated steps for plotting\n",
    "    intermediate = [] \n",
    "    intermediate.append(samples.detach().cpu().numpy())\n",
    "    for i in range(timesteps, 0, -1):\n",
    "        print(f'sampling timestep {i:3d}', end='\\r')\n",
    "\n",
    "        # reshape time tensor\n",
    "        t = torch.tensor([i / timesteps])[:, None, None, None].to(device)\n",
    "\n",
    "        # sample some random noise to inject back in. For i = 1, don't add back in noise\n",
    "        z = torch.randn_like(samples) if i > 1 else 0\n",
    "\n",
    "        eps = nn_model(samples, t)    # predict noise e_(x_t,t)\n",
    "        samples = denoise_add_noise(samples, i, eps, z)\n",
    "        if i % save_rate ==0 or i==timesteps:\n",
    "            intermediate.append(samples.detach().cpu().numpy())\n",
    "\n",
    "    intermediate = np.stack(intermediate)\n",
    "    return samples, intermediate"
   ]
  },
  {
   "cell_type": "code",
   "execution_count": 12,
   "metadata": {},
   "outputs": [],
   "source": [
    "timesteps = 1000"
   ]
  },
  {
   "cell_type": "code",
   "execution_count": 13,
   "metadata": {},
   "outputs": [],
   "source": [
    "save_rate = 20"
   ]
  },
  {
   "cell_type": "markdown",
   "metadata": {},
   "source": [
    "# Speciation"
   ]
  },
  {
   "cell_type": "code",
   "execution_count": 14,
   "metadata": {},
   "outputs": [],
   "source": [
    "@torch.no_grad()\n",
    "def go_in(timesteps):\n",
    "    fi=dict()\n",
    "    for x in range(0,timesteps+1,20):\n",
    "        fi[x]=0\n",
    "    \n",
    "    for o in range (4):\n",
    "        samples, intermediate = sample_ddpm(25)\n",
    "        samples = samples.cpu()\n",
    "        _, samples_class = torch.max(net(samples), 1)\n",
    "\n",
    "        for step in range(timesteps,-1,-20):\n",
    "            clones = torch.Tensor(intermediate [int(timesteps/save_rate) - int(step/save_rate)]).to(device)\n",
    "            if step % 100 == 0:\n",
    "                print(step, \"-->\", end=\" \")\n",
    "\n",
    "            for i in range(step, 0, -1):\n",
    "                # reshape time tensor\n",
    "                t = torch.tensor([i / timesteps])[:, None, None, None].to(device)\n",
    "                # sample some random noise to inject back in. For i = 1, don't add back in noise\n",
    "                z = torch.randn_like(clones) if i > 1 else 0\n",
    "                eps = nn_model(clones, t)    # predict noise e_(x_t,t)\n",
    "                clones = denoise_add_noise(clones, i, eps, z)\n",
    "            # Now look at the resulting classes\n",
    "            clones = clones.cpu()\n",
    "            _, clone_class = torch.max(net(clones), 1)\n",
    "            clones = clones.to(device)\n",
    "            \n",
    "        \n",
    "            fi[step] += int(sum(clone_class == samples_class)) \n",
    "        print(\"\\n\")\n",
    "    for x in fi:\n",
    "        fi[x] /= 100\n",
    "\n",
    "    return fi\n",
    "\n"
   ]
  },
  {
   "cell_type": "code",
   "execution_count": 22,
   "metadata": {},
   "outputs": [],
   "source": [
    "@torch.no_grad()\n",
    "def go_in(timesteps):\n",
    "    fi=dict()\n",
    "    for x in range(0,timesteps+1,20):\n",
    "        fi[x]=0\n",
    "    \n",
    "    for o in range (1):\n",
    "        samples, intermediate = sample_ddpm(25)\n",
    "        samples = samples.cpu()\n",
    "        _, samples_class = torch.max(net(samples), 1)\n",
    "\n",
    "        for step in range(timesteps,-1,-20):\n",
    "            clone_1 = torch.Tensor(intermediate [int(timesteps/save_rate) - int(step/save_rate)]).to(device)\n",
    "            clone_2 = torch.Tensor(intermediate [int(timesteps/save_rate) - int(step/save_rate)]).to(device)\n",
    "            if step % 100 == 0:\n",
    "                print(step, \"-->\", end=\" \")\n",
    "\n",
    "            for i in range(step, 0, -1):\n",
    "                # reshape time tensor\n",
    "                t = torch.tensor([i / timesteps])[:, None, None, None].to(device)\n",
    "                # sample some random noise to inject back in. For i = 1, don't add back in noise\n",
    "                z_1,z_2 = torch.randn_like(clone_1) if i > 1 else 0, torch.randn_like(clone_2) if i > 1 else 0\n",
    "                eps_1 = nn_model(clone_1, t)    # predict noise e_(x_t,t)\n",
    "                eps_2 = nn_model(clone_2, t)\n",
    "                clone_1 = denoise_add_noise(clone_1, i, eps_1, z_1)\n",
    "                clone_2 = denoise_add_noise(clone_2, i, eps_2, z_2)\n",
    "            # Now look at the resulting classes\n",
    "            clone_1, clone_2 = clone_1.cpu(), clone_2.cpu()\n",
    "            _, clone_class_1 = torch.max(net(clone_1), 1)\n",
    "            _, clone_class_2 = torch.max(net(clone_2), 1)\n",
    "            clone_1 = clone_1.to(device)\n",
    "            clone_2 = clone_2.to(device)\n",
    "            \n",
    "        \n",
    "            fi[step] += int(sum(clone_class_1 == clone_class_2)) \n",
    "        print(\"\\n\")\n",
    "    for x in fi:\n",
    "        fi[x] /= 100\n",
    "\n",
    "    return fi\n",
    "\n",
    "            # Check if resulting class is the same as sample[x]\n",
    "            # If yes (or no), update average \n"
   ]
  },
  {
   "cell_type": "code",
   "execution_count": 15,
   "metadata": {},
   "outputs": [
    {
     "name": "stdout",
     "output_type": "stream",
     "text": [
      "1000 --> timestep   10900 --> 800 --> 700 --> 600 --> 500 --> 400 --> 300 --> 200 --> 100 --> 0 --> \n",
      "\n",
      "1000 --> timestep   10900 --> 800 --> 700 --> 600 --> 500 --> 400 --> 300 --> 200 --> 100 --> 0 --> \n",
      "\n",
      "1000 --> timestep   10900 --> 800 --> 700 --> 600 --> 500 --> 400 --> 300 --> 200 --> 100 --> 0 --> \n",
      "\n",
      "1000 --> timestep   10900 --> 800 --> 700 --> 600 --> 500 --> 400 --> 300 --> 200 --> 100 --> 0 --> \n",
      "\n"
     ]
    }
   ],
   "source": [
    "a = go_in(timesteps)"
   ]
  },
  {
   "cell_type": "code",
   "execution_count": 24,
   "metadata": {},
   "outputs": [],
   "source": [
    "N = 2\n",
    "\n",
    "#Prendine uno ogni N\n",
    "mask = []\n",
    "for i in range(len(a)):\n",
    "    if i%N == 0:\n",
    "        mask.append(True)\n",
    "    else:\n",
    "        mask.append(False)\n"
   ]
  },
  {
   "cell_type": "code",
   "execution_count": 27,
   "metadata": {},
   "outputs": [
    {
     "name": "stderr",
     "output_type": "stream",
     "text": [
      "/var/folders/cd/sr6rtt2j1rqdn0jdyblt3ztm0000gn/T/ipykernel_51242/1051409440.py:13: RuntimeWarning: overflow encountered in exp\n",
      "  return L / (1 + np.exp(-k*(x-x0))) #+ 0.5\n"
     ]
    },
    {
     "data": {
      "image/png": "[encoded data removed]",
      "text/plain": [
       "<Figure size 640x480 with 1 Axes>"
      ]
     },
     "metadata": {},
     "output_type": "display_data"
    }
   ],
   "source": [
    "import numpy as np\n",
    "from scipy.optimize import curve_fit\n",
    "from scipy.special import expit  # Logistic function\n",
    "import matplotlib.pyplot as plt\n",
    "# Generate example data\n",
    "new = np.array(list(a.keys()))[mask]\n",
    "np.random.seed(0)\n",
    "x_data = np.linspace(0, 1000, len(new))\n",
    "y_data = np.array([a[x] for x in new]) #-0.5\n",
    "\n",
    "# Define the sigmoidal function using scipy's expit (logistic) function\n",
    "def sigmoid(x, L, x0, k):\n",
    "    return L / (1 + np.exp(-k*(x-x0))) #+ 0.5\n",
    "\n",
    "\n",
    "# Fit the sigmoidal function to the data\n",
    "popt, pcov = curve_fit(sigmoid, x_data, y_data, p0=[max(y_data), np.median(x_data),-1])\n",
    "\n",
    "# Plot the original data\n",
    "plt.scatter(x_data, y_data, label='Data')\n",
    "\n",
    "# Plot the fitted sigmoid curve\n",
    "x_fit = np.linspace(0, 1000, 1000)\n",
    "plt.plot(x_data, sigmoid(x_data, *popt), 'r-', label='Fitted Sigmoid Curve')\n",
    "\n",
    "plt.xlabel('x')\n",
    "plt.ylabel('y')\n",
    "plt.legend()\n",
    "plt.show()\n"
   ]
  },
  {
   "cell_type": "markdown",
   "metadata": {},
   "source": [
    "# Save / Load"
   ]
  },
  {
   "cell_type": "code",
   "execution_count": 21,
   "metadata": {},
   "outputs": [],
   "source": [
    "import json\n",
    "\n",
    "# Save dictionary to a JSON file\n",
    "with open('mnist_22.json', 'w') as json_file:\n",
    "    json.dump(a, json_file)\n"
   ]
  },
  {
   "cell_type": "code",
   "execution_count": 26,
   "metadata": {},
   "outputs": [
    {
     "name": "stdout",
     "output_type": "stream",
     "text": [
      "{0: 1.0, 20: 1.0, 40: 1.0, 60: 0.99, 80: 0.98, 100: 0.98, 120: 0.97, 140: 0.98, 160: 0.98, 180: 0.99, 200: 0.96, 220: 0.95, 240: 0.97, 260: 0.96, 280: 0.96, 300: 0.95, 320: 0.95, 340: 0.87, 360: 0.94, 380: 0.95, 400: 0.92, 420: 0.9, 440: 0.92, 460: 0.95, 480: 0.9, 500: 0.86, 520: 0.84, 540: 0.83, 560: 0.81, 580: 0.85, 600: 0.84, 620: 0.81, 640: 0.83, 660: 0.85, 680: 0.79, 700: 0.75, 720: 0.67, 740: 0.75, 760: 0.75, 780: 0.82, 800: 0.65, 820: 0.79, 840: 0.72, 860: 0.71, 880: 0.71, 900: 0.68, 920: 0.74, 940: 0.63, 960: 0.64, 980: 0.68, 1000: 0.72}\n"
     ]
    }
   ],
   "source": [
    "import json\n",
    "# Load dictionary from the JSON file\n",
    "with open('mnist_2.json', 'r') as json_file:\n",
    "    b = json.load(json_file)\n",
    "\n",
    "a = dict()\n",
    "for x in b:\n",
    "    a[int(x)] = b[x]\n",
    "\n",
    "print(a)"
   ]
  },
  {
   "cell_type": "code",
   "execution_count": null,
   "metadata": {},
   "outputs": [],
   "source": []
  }
 ],
 "metadata": {
  "kernelspec": {
   "display_name": "ML",
   "language": "python",
   "name": "python3"
  },
  "language_info": {
   "codemirror_mode": {
    "name": "ipython",
    "version": 3
   },
   "file_extension": ".py",
   "mimetype": "text/x-python",
   "name": "python",
   "nbconvert_exporter": "python",
   "pygments_lexer": "ipython3",
   "version": "3.10.9"
  }
 },
 "nbformat": 4,
 "nbformat_minor": 2
}
